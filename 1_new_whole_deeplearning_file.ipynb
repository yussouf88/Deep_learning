{
  "nbformat": 4,
  "nbformat_minor": 0,
  "metadata": {
    "colab": {
      "provenance": [],
      "authorship_tag": "ABX9TyOi7bKR4ds0m+621meWxMRa",
      "include_colab_link": true
    },
    "kernelspec": {
      "name": "python3",
      "display_name": "Python 3"
    },
    "language_info": {
      "name": "python"
    }
  },
  "cells": [
    {
      "cell_type": "markdown",
      "metadata": {
        "id": "view-in-github",
        "colab_type": "text"
      },
      "source": [
        "<a href=\"https://colab.research.google.com/github/yussouf88/Deep_learning/blob/main/1_new_whole_deeplearning_file.ipynb\" target=\"_parent\"><img src=\"https://colab.research.google.com/assets/colab-badge.svg\" alt=\"Open In Colab\"/></a>"
      ]
    },
    {
      "cell_type": "code",
      "source": [
        "#1\n",
        "import torch\n",
        "import torch.nn as nn\n",
        "import torch.nn.functional as f\n",
        "\n",
        "class Model(nn.Module):\n",
        "\tdef __init__(self, ip=4, h1=8, h2=9, op=3):\n",
        "\t\tsuper().__init__()\n",
        "\t\tself.fc1 = nn.Linear(ip, h1)\n",
        "\t\tself.fc2 = nn.Linear(h1, h2)\n",
        "\t\tself.out = nn.Linear(h2, op)\n",
        "\tdef forward(self, x):\n",
        "\t\tx = f.relu(self.fc1(x))\n",
        "\t\tx = f.relu(self.fc2(x))\n",
        "\t\tx = self.out(x)\n",
        "\t\treturn x\n",
        "\n"
      ],
      "metadata": {
        "id": "fAiGR7kaK2WR"
      },
      "execution_count": 280,
      "outputs": []
    },
    {
      "cell_type": "code",
      "source": [
        "#2\n",
        "torch.manual_seed(41)\n",
        "Model = Model()"
      ],
      "metadata": {
        "id": "JRjZhnLxEl9u"
      },
      "execution_count": 281,
      "outputs": []
    },
    {
      "cell_type": "code",
      "source": [
        "#3 import data\n",
        "import pandas as pd\n",
        "ur1 = 'https://gist.githubusercontent.com/curran/a08a1080b88344b0c8a7/raw/0e7a9b0a5d22642a06d3d5b9bcbad9890c8ee534/iris.csv'\n",
        "df = pd.read_csv(ur1)\n",
        "df['species'] = df['species'].replace('setosa',0)\n",
        "df['species'] = df['species'].replace('versicolor',1)\n",
        "df['species'] = df['species'].replace('virginica',2)\n",
        "\n",
        "x= df.drop('species', axis = 1)\n",
        "y =df['species']\n",
        "x = x.values\n",
        "y = y.values\n",
        "y = pd.to_numeric(y)\n"
      ],
      "metadata": {
        "id": "T-oQgh2kCJqy"
      },
      "execution_count": 282,
      "outputs": []
    },
    {
      "cell_type": "code",
      "source": [
        "#4 split data\n",
        "from sklearn.model_selection import train_test_split\n",
        "x_train, x_test, y_train, y_test = train_test_split(x, y, test_size = .2, random_state = 41)\n",
        "x_train = torch.FloatTensor(x_train)\n",
        "x_test  = torch.FloatTensor(x_test)\n",
        "y_train = torch.LongTensor(y_train)\n",
        "y_test  = torch.LongTensor(y_test)"
      ],
      "metadata": {
        "id": "E92aStg6B7Ju"
      },
      "execution_count": 283,
      "outputs": []
    },
    {
      "cell_type": "code",
      "source": [
        "# 5 Define loss an optimizer\n",
        "criterion = nn.CrossEntropyLoss()\n",
        "optimizer = torch.optim.Adam(Model.parameters(),lr = .1)"
      ],
      "metadata": {
        "id": "tU3mNX0mE1Vh"
      },
      "execution_count": 284,
      "outputs": []
    },
    {
      "cell_type": "code",
      "source": [
        "#6 train model\n",
        "Epoch = 100\n",
        "losses = []\n",
        "for i in range(Epoch):\n",
        "  y_pred = Model.forward(x_train)\n",
        "  loss = criterion(y_pred,y_train)\n",
        "  losses.append(loss.detach().numpy())\n",
        "  if i%10 == 0:\n",
        "    print(f'on epoch {i} loss is {loss}')\n",
        "\n",
        "  optimizer.zero_grad()\n",
        "  loss.backward()\n",
        "  optimizer.step()"
      ],
      "metadata": {
        "colab": {
          "base_uri": "https://localhost:8080/"
        },
        "id": "YFoByRm_H-fm",
        "outputId": "df4fa4fa-7e47-4804-eca6-bccbd38d8386"
      },
      "execution_count": 285,
      "outputs": [
        {
          "output_type": "stream",
          "name": "stdout",
          "text": [
            "on epoch 0 loss is 1.1251550912857056\n",
            "on epoch 10 loss is 0.4706101417541504\n",
            "on epoch 20 loss is 0.13040857017040253\n",
            "on epoch 30 loss is 0.07075788825750351\n",
            "on epoch 40 loss is 0.041713688522577286\n",
            "on epoch 50 loss is 0.030529288575053215\n",
            "on epoch 60 loss is 0.023527245968580246\n",
            "on epoch 70 loss is 0.02062838524580002\n",
            "on epoch 80 loss is 0.019704390317201614\n",
            "on epoch 90 loss is 0.03119707480072975\n"
          ]
        }
      ]
    }
  ]
}