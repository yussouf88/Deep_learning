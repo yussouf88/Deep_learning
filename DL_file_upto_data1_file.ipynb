{
  "nbformat": 4,
  "nbformat_minor": 0,
  "metadata": {
    "colab": {
      "provenance": [],
      "gpuType": "T4",
      "authorship_tag": "ABX9TyNHS7JoCfndBNKtWfj+aNm4",
      "include_colab_link": true
    },
    "kernelspec": {
      "name": "python3",
      "display_name": "Python 3"
    },
    "language_info": {
      "name": "python"
    },
    "accelerator": "GPU"
  },
  "cells": [
    {
      "cell_type": "markdown",
      "metadata": {
        "id": "view-in-github",
        "colab_type": "text"
      },
      "source": [
        "<a href=\"https://colab.research.google.com/github/yussouf88/Deep_learning/blob/main/DL_file_upto_data1_file.ipynb\" target=\"_parent\"><img src=\"https://colab.research.google.com/assets/colab-badge.svg\" alt=\"Open In Colab\"/></a>"
      ]
    },
    {
      "cell_type": "code",
      "source": [
        "import torch\n",
        "import torch.nn as nn\n",
        "import torch.nn.functional as f\n",
        "import pandas as pd\n",
        "from sklearn.model_selection import train_test_split\n",
        "\n",
        "\n",
        "pd.set_option('future.no_silent_downcasting', True)"
      ],
      "metadata": {
        "id": "fFbocuEkWMw7"
      },
      "execution_count": 109,
      "outputs": []
    },
    {
      "cell_type": "code",
      "source": [
        "class Model(nn.Module):\n",
        "  def __init__(self,ip=4,h1=8,h2=9,h3=8,op=3):\n",
        "    super().__init__()\n",
        "    self.fc1 = nn.Linear(ip,h1)\n",
        "    self.fc2 = nn.Linear(h1,h2)\n",
        "    self.fc3 = nn.Linear(h2,h3)\n",
        "    self.fc4 = nn.Linear(h3,op)\n",
        "\n",
        "  def forword(self,x):\n",
        "    x = f.relu(self.fc1(x))\n",
        "    x = f.relu(self.fc2(x))\n",
        "    x = f.relu(self.fc3(x))\n",
        "    x = self.fc4(x)\n",
        "    return x\n",
        "\n",
        "torch.manual_seed(21)\n",
        "model = Model()"
      ],
      "metadata": {
        "id": "1Bhm16eSxf9s"
      },
      "execution_count": 110,
      "outputs": []
    },
    {
      "cell_type": "code",
      "source": [
        "#Data Import\n",
        "ur1 = 'https://gist.githubusercontent.com/curran/a08a1080b88344b0c8a7/raw/0e7a9b0a5d22642a06d3d5b9bcbad9890c8ee534/iris.csv'\n",
        "df = pd.read_csv(ur1)\n",
        "df['variety'] = df.species.replace(['setosa',\t'versicolor',\t'virginica'],[0,1,2])\n",
        "x = df[['sepal_length',\t'sepal_width',\t'petal_length',\t'petal_width']]\n",
        "y = df['variety']\n",
        "x = x.values\n",
        "y = y.values\n",
        "y = pd.to_numeric(y)\n",
        "\n",
        "x_train,x_test,y_train,y_test = train_test_split(x,y,test_size = .2,random_state=21)\n",
        "x_train = torch.FloatTensor(x_train)\n",
        "x_test = torch.FloatTensor(x_test)\n",
        "y_train = torch.LongTensor(y_train)\n",
        "y_test = torch.LongTensor(y_test)"
      ],
      "metadata": {
        "id": "87BjFeXRyprQ"
      },
      "execution_count": 111,
      "outputs": []
    },
    {
      "cell_type": "code",
      "source": [
        "criterion= nn.CrossEntropyLoss()\n",
        "opt = torch.optim.Adam(model.parameters(),lr = .01)\n",
        "\n",
        "Epochs = 100\n",
        "losses = []\n",
        "for i in range(Epochs):\n",
        "  y_pred = model.forword(x_train)\n",
        "  loss = criterion(y_pred,y_train)\n",
        "  losses.append(loss.detach().numpy())\n",
        "  if i%10 == 0:\n",
        "    print(f'on epoch {i} loss is {loss}')\n",
        "\n",
        "  opt.zero_grad()\n",
        "  loss.backward()\n",
        "  opt.step()"
      ],
      "metadata": {
        "id": "Ir9ya97bQEqt",
        "outputId": "e5e6ddd0-9ef6-4545-eb6c-3b0628cf0bcb",
        "colab": {
          "base_uri": "https://localhost:8080/"
        }
      },
      "execution_count": 112,
      "outputs": [
        {
          "output_type": "stream",
          "name": "stdout",
          "text": [
            "on epoch 0 loss is 1.1089309453964233\n",
            "on epoch 10 loss is 0.9425957798957825\n",
            "on epoch 20 loss is 0.6103331446647644\n",
            "on epoch 30 loss is 0.348080575466156\n",
            "on epoch 40 loss is 0.18991470336914062\n",
            "on epoch 50 loss is 0.08531496673822403\n",
            "on epoch 60 loss is 0.050153836607933044\n",
            "on epoch 70 loss is 0.03817233815789223\n",
            "on epoch 80 loss is 0.03194485604763031\n",
            "on epoch 90 loss is 0.028278304263949394\n"
          ]
        }
      ]
    },
    {
      "cell_type": "code",
      "source": [],
      "metadata": {
        "id": "zpendcfYz_ts"
      },
      "execution_count": 6,
      "outputs": []
    },
    {
      "cell_type": "code",
      "source": [
        "torch.manual_seed(21)\n",
        "model = Model()"
      ],
      "metadata": {
        "id": "qNtBKHEI0FYz"
      },
      "execution_count": 7,
      "outputs": []
    },
    {
      "cell_type": "code",
      "source": [
        "Epochs = 100\n",
        "losses = []\n",
        "for i in range(Epochs):\n",
        "  y_pred = model.forword(x_train)\n",
        "  loss = criterion(y_pred,y_train)\n",
        "  losses.append(loss.detach().numpy())\n",
        "  if i%10 == 0:\n",
        "    print(f'on epoch {i} loss is {loss}')\n",
        "\n",
        "  optimizer.zero_grad()\n",
        "  loss.backward()\n",
        "  optimizer.step()"
      ],
      "metadata": {
        "colab": {
          "base_uri": "https://localhost:8080/",
          "height": 348
        },
        "id": "p6NOdS7L0I2q",
        "outputId": "b84e7b79-028c-438b-d597-b0d0ef00e410"
      },
      "execution_count": 80,
      "outputs": [
        {
          "output_type": "error",
          "ename": "AttributeError",
          "evalue": "'Model' object has no attribute 'forword'",
          "traceback": [
            "\u001b[0;31m---------------------------------------------------------------------------\u001b[0m",
            "\u001b[0;31mAttributeError\u001b[0m                            Traceback (most recent call last)",
            "\u001b[0;32m<ipython-input-80-560480946>\u001b[0m in \u001b[0;36m<cell line: 0>\u001b[0;34m()\u001b[0m\n\u001b[1;32m      2\u001b[0m \u001b[0mlosses\u001b[0m \u001b[0;34m=\u001b[0m \u001b[0;34m[\u001b[0m\u001b[0;34m]\u001b[0m\u001b[0;34m\u001b[0m\u001b[0;34m\u001b[0m\u001b[0m\n\u001b[1;32m      3\u001b[0m \u001b[0;32mfor\u001b[0m \u001b[0mi\u001b[0m \u001b[0;32min\u001b[0m \u001b[0mrange\u001b[0m\u001b[0;34m(\u001b[0m\u001b[0mEpochs\u001b[0m\u001b[0;34m)\u001b[0m\u001b[0;34m:\u001b[0m\u001b[0;34m\u001b[0m\u001b[0;34m\u001b[0m\u001b[0m\n\u001b[0;32m----> 4\u001b[0;31m   \u001b[0my_pred\u001b[0m \u001b[0;34m=\u001b[0m \u001b[0mmodel\u001b[0m\u001b[0;34m.\u001b[0m\u001b[0mforword\u001b[0m\u001b[0;34m(\u001b[0m\u001b[0mx_train\u001b[0m\u001b[0;34m)\u001b[0m\u001b[0;34m\u001b[0m\u001b[0;34m\u001b[0m\u001b[0m\n\u001b[0m\u001b[1;32m      5\u001b[0m   \u001b[0mloss\u001b[0m \u001b[0;34m=\u001b[0m \u001b[0mcriterion\u001b[0m\u001b[0;34m(\u001b[0m\u001b[0my_pred\u001b[0m\u001b[0;34m,\u001b[0m\u001b[0my_train\u001b[0m\u001b[0;34m)\u001b[0m\u001b[0;34m\u001b[0m\u001b[0;34m\u001b[0m\u001b[0m\n\u001b[1;32m      6\u001b[0m   \u001b[0mlosses\u001b[0m\u001b[0;34m.\u001b[0m\u001b[0mappend\u001b[0m\u001b[0;34m(\u001b[0m\u001b[0mloss\u001b[0m\u001b[0;34m.\u001b[0m\u001b[0mdetach\u001b[0m\u001b[0;34m(\u001b[0m\u001b[0;34m)\u001b[0m\u001b[0;34m.\u001b[0m\u001b[0mnumpy\u001b[0m\u001b[0;34m(\u001b[0m\u001b[0;34m)\u001b[0m\u001b[0;34m)\u001b[0m\u001b[0;34m\u001b[0m\u001b[0;34m\u001b[0m\u001b[0m\n",
            "\u001b[0;32m/usr/local/lib/python3.11/dist-packages/torch/nn/modules/module.py\u001b[0m in \u001b[0;36m__getattr__\u001b[0;34m(self, name)\u001b[0m\n\u001b[1;32m   1926\u001b[0m             \u001b[0;32mif\u001b[0m \u001b[0mname\u001b[0m \u001b[0;32min\u001b[0m \u001b[0mmodules\u001b[0m\u001b[0;34m:\u001b[0m\u001b[0;34m\u001b[0m\u001b[0;34m\u001b[0m\u001b[0m\n\u001b[1;32m   1927\u001b[0m                 \u001b[0;32mreturn\u001b[0m \u001b[0mmodules\u001b[0m\u001b[0;34m[\u001b[0m\u001b[0mname\u001b[0m\u001b[0;34m]\u001b[0m\u001b[0;34m\u001b[0m\u001b[0;34m\u001b[0m\u001b[0m\n\u001b[0;32m-> 1928\u001b[0;31m         raise AttributeError(\n\u001b[0m\u001b[1;32m   1929\u001b[0m             \u001b[0;34mf\"'{type(self).__name__}' object has no attribute '{name}'\"\u001b[0m\u001b[0;34m\u001b[0m\u001b[0;34m\u001b[0m\u001b[0m\n\u001b[1;32m   1930\u001b[0m         )\n",
            "\u001b[0;31mAttributeError\u001b[0m: 'Model' object has no attribute 'forword'"
          ]
        }
      ]
    },
    {
      "cell_type": "code",
      "source": [
        "class Model(nn.Module):\n",
        "  def __init__(self,ip=4,h1=8,h2=9,h3=8,op=3):\n",
        "    super().__init__()\n",
        "    self.fc1 = nn.Linear(ip,h1)\n",
        "    self.fc2 = nn.Linear(h1,h2)\n",
        "    self.fc3 = nn.Linear(h2,h3)\n",
        "    self.fc4 = nn.Linear(h3,op)\n",
        "\n",
        "  def forword(self,x):\n",
        "    x = f.relu(self.fc1(x))\n",
        "    x = f.relu(self.fc2(x))\n",
        "    x = f.relu(self.fc3(x))\n",
        "    x = f.relu(self.fc4(x))\n",
        "\n",
        "    return x\n",
        "\n",
        "torch.manual_seed(41)\n",
        "model = Model()"
      ],
      "metadata": {
        "colab": {
          "base_uri": "https://localhost:8080/"
        },
        "id": "gpzfO4VTK1Wn",
        "outputId": "3d9b865b-1222-4c5e-8b7f-0115711ec314"
      },
      "execution_count": 50,
      "outputs": [
        {
          "output_type": "execute_result",
          "data": {
            "text/plain": [
              "array(['setosa', 'versicolor', 'virginica'], dtype=object)"
            ]
          },
          "metadata": {},
          "execution_count": 50
        }
      ]
    }
  ]
}