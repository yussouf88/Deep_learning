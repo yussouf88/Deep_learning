{
  "nbformat": 4,
  "nbformat_minor": 0,
  "metadata": {
    "colab": {
      "provenance": [],
      "gpuType": "T4",
      "authorship_tag": "ABX9TyP12wcjQDDH9CoGPws8jzIn",
      "include_colab_link": true
    },
    "kernelspec": {
      "name": "python3",
      "display_name": "Python 3"
    },
    "language_info": {
      "name": "python"
    },
    "accelerator": "GPU"
  },
  "cells": [
    {
      "cell_type": "markdown",
      "metadata": {
        "id": "view-in-github",
        "colab_type": "text"
      },
      "source": [
        "<a href=\"https://colab.research.google.com/github/yussouf88/Deep_learning/blob/main/DL_file_upto_data1_file.ipynb\" target=\"_parent\"><img src=\"https://colab.research.google.com/assets/colab-badge.svg\" alt=\"Open In Colab\"/></a>"
      ]
    },
    {
      "cell_type": "code",
      "source": [
        "import torch\n",
        "import torch.nn as nn\n",
        "import torch.nn.functional as f\n",
        "\n",
        "class Model(nn.Module):\n",
        "  def __init__(self,ip=4,h1=8,h2=9,op=3):\n",
        "    super().__init__()\n",
        "    self.fc1 = nn.Linear(ip,h1)\n",
        "    self.fc2 = nn.Linear(h1,h2)\n",
        "    self.out = nn.Linear(h2,op)\n",
        "\n",
        "  def forword(self,x):\n",
        "    x = f.relu(self.fc1(x))\n",
        "    x = f.relu(self.fc2(x))\n",
        "    x = self.out(x)\n",
        "\n",
        "    return x\n",
        "\n"
      ],
      "metadata": {
        "id": "fFbocuEkWMw7"
      },
      "execution_count": 19,
      "outputs": []
    },
    {
      "cell_type": "code",
      "source": [
        "torch.manual_seed(21)\n",
        "model = Model()"
      ],
      "metadata": {
        "id": "1Bhm16eSxf9s"
      },
      "execution_count": 20,
      "outputs": []
    },
    {
      "cell_type": "code",
      "source": [
        "#Data Import\n",
        "import pandas as pd\n",
        "from sklearn.model_selection import train_test_split\n",
        "pd.set_option('future.no_silent_downcasting', True)\n",
        "\n",
        "ur1 = 'https://gist.githubusercontent.com/curran/a08a1080b88344b0c8a7/raw/0e7a9b0a5d22642a06d3d5b9bcbad9890c8ee534/iris.csv'\n",
        "df = pd.read_csv(ur1)\n",
        "df['species'] = df['species'].replace('setosa',0.0)\n",
        "df['species'] = df['species'].replace('versicolor',1.0)\n",
        "df['species'] = df['species'].replace('virginica',2.0)\n",
        "\n",
        "x = df.drop('species',axis = 1)\n",
        "y = df['species']\n",
        "x = x.values\n",
        "y = y.values\n",
        "y = pd.to_numeric(y)\n",
        "#y=y.astype('int')"
      ],
      "metadata": {
        "id": "87BjFeXRyprQ"
      },
      "execution_count": 32,
      "outputs": []
    },
    {
      "cell_type": "code",
      "source": [
        "x_train, x_test, y_train, y_test = train_test_split(x,y,test_size = 0.2, random_state=41)\n",
        "x_train = torch.FloatTensor(x_train)\n",
        "x_test = torch.FloatTensor(x_test)\n",
        "y_train = torch.LongTensor(y_train)\n",
        "y_test = torch.LongTensor(y_test)\n",
        "\n",
        "criterion = nn.CrossEntropyLoss()\n",
        "optimizer = torch.optim.Adam(model.parameters(),lr = 0.01)\n"
      ],
      "metadata": {
        "id": "1j7pdxAVy6zX"
      },
      "execution_count": 36,
      "outputs": []
    }
  ]
}