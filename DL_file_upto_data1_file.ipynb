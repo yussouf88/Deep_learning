{
  "nbformat": 4,
  "nbformat_minor": 0,
  "metadata": {
    "colab": {
      "provenance": [],
      "gpuType": "T4",
      "authorship_tag": "ABX9TyMZFqcKyzmSeCfiCfisYV3x",
      "include_colab_link": true
    },
    "kernelspec": {
      "name": "python3",
      "display_name": "Python 3"
    },
    "language_info": {
      "name": "python"
    },
    "accelerator": "GPU"
  },
  "cells": [
    {
      "cell_type": "markdown",
      "metadata": {
        "id": "view-in-github",
        "colab_type": "text"
      },
      "source": [
        "<a href=\"https://colab.research.google.com/github/yussouf88/Deep_learning/blob/main/DL_file_upto_data1_file.ipynb\" target=\"_parent\"><img src=\"https://colab.research.google.com/assets/colab-badge.svg\" alt=\"Open In Colab\"/></a>"
      ]
    },
    {
      "cell_type": "code",
      "source": [
        "#Final\n",
        "import torch\n",
        "import torch.nn as nn\n",
        "import torch.nn.functional as f\n",
        "import pandas as pd\n",
        "from sklearn.model_selection import train_test_split\n",
        "pd.set_option('future.no_silent_downcasting', True)\n",
        "\n",
        "import matplotlib.pyplot as plt\n"
      ],
      "metadata": {
        "id": "fFbocuEkWMw7"
      },
      "execution_count": 17,
      "outputs": []
    },
    {
      "cell_type": "code",
      "source": [
        "class Model(nn.Module):\n",
        "  def __init__(self,ip = 4,h1 =108,h2=9,h3=10,op=3):\n",
        "    super().__init__()\n",
        "    self.fc1 = nn.Linear(ip,h1)\n",
        "    self.fc2 = nn.Linear(h1,h2)\n",
        "    self.fc3 = nn.Linear(h2,h3)\n",
        "    self.fc4 = nn.Linear(h3,op)\n",
        "\n",
        "  def forword(self,x):\n",
        "    x = f.relu(self.fc1(x))\n",
        "    x = f.relu(self.fc2(x))\n",
        "    x = f.relu(self.fc3(x))\n",
        "    x = self.fc4(x)\n",
        "\n",
        "    return x\n",
        "\n",
        "torch.manual_seed(10)\n",
        "model = Model()\n",
        "\n"
      ],
      "metadata": {
        "id": "1Bhm16eSxf9s"
      },
      "execution_count": 33,
      "outputs": []
    },
    {
      "cell_type": "code",
      "source": [
        "#Data Import\n",
        "ur1 = 'https://gist.githubusercontent.com/curran/a08a1080b88344b0c8a7/raw/0e7a9b0a5d22642a06d3d5b9bcbad9890c8ee534/iris.csv'\n",
        "df = pd.read_csv(ur1)\n",
        "df['variety'] = df.species.replace(['setosa', 'versicolor', 'virginica'],[0,1,2])\n",
        "x = df[['sepal_length',\t'sepal_width',\t'petal_length',\t'petal_width']]\n",
        "y = df['variety']\n",
        "x = x.values\n",
        "y = y.values\n",
        "y = pd.to_numeric(y)\n",
        "\n",
        "x_train,x_test,y_train,y_test = train_test_split(x,y,test_size=.2,random_state=10)\n",
        "x_train = torch.FloatTensor(x_train)\n",
        "x_test = torch.FloatTensor(x_test)\n",
        "y_train = torch.LongTensor(y_train)\n",
        "y_test = torch.LongTensor(y_test)\n"
      ],
      "metadata": {
        "id": "87BjFeXRyprQ"
      },
      "execution_count": 34,
      "outputs": []
    },
    {
      "cell_type": "code",
      "source": [
        "critereon = nn.CrossEntropyLoss()\n",
        "optimizer = torch.optim.Adam(model.parameters(),lr=.01)\n",
        "epoch = 100\n",
        "lss = []\n",
        "\n",
        "for i in range(epoch):\n",
        "  y_pred = model.forword(x_train)\n",
        "  loss = critereon(y_pred,y_train)\n",
        "  lss.append(loss.detach().numpy())\n",
        "  if i%10==0:\n",
        "    print(f'for i = {i} loss = {loss}')\n",
        "\n",
        "  optimizer.zero_grad()\n",
        "  loss.backward()\n",
        "  optimizer.step()\n"
      ],
      "metadata": {
        "id": "Ir9ya97bQEqt",
        "outputId": "29143adc-fc3e-4b95-83cc-8a4d9dbee888",
        "colab": {
          "base_uri": "https://localhost:8080/"
        }
      },
      "execution_count": 35,
      "outputs": [
        {
          "output_type": "stream",
          "name": "stdout",
          "text": [
            "for i = 0 loss = 1.1066840887069702\n",
            "for i = 10 loss = 0.9150375723838806\n",
            "for i = 20 loss = 0.5176275968551636\n",
            "for i = 30 loss = 0.22841860353946686\n",
            "for i = 40 loss = 0.10129230469465256\n",
            "for i = 50 loss = 0.07080741971731186\n",
            "for i = 60 loss = 0.06356342136859894\n",
            "for i = 70 loss = 0.061172764748334885\n",
            "for i = 80 loss = 0.06376346945762634\n",
            "for i = 90 loss = 0.05846049264073372\n"
          ]
        }
      ]
    },
    {
      "cell_type": "code",
      "source": [
        "plt.plot(range(epoch),lss)\n",
        "plt.xlabel('Epochs')\n",
        "plt.ylabel('Loss')\n",
        "plt.show()"
      ],
      "metadata": {
        "colab": {
          "base_uri": "https://localhost:8080/",
          "height": 449
        },
        "id": "SQNthAgsEDgL",
        "outputId": "07646910-c795-4f1a-9401-3dbf3f800f9a"
      },
      "execution_count": 36,
      "outputs": [
        {
          "output_type": "display_data",
          "data": {
            "text/plain": [
              "<Figure size 640x480 with 1 Axes>"
            ],
            "image/png": "[encoded data removed]"
          },
          "metadata": {}
        }
      ]
    },
    {
      "cell_type": "code",
      "source": [
        "with torch.no_grad():\n",
        "  y_eval = model.forword(x_test)\n",
        "  loss = critereon(y_eval,y_test)\n",
        "loss"
      ],
      "metadata": {
        "id": "tvEqJzAHHoMU",
        "outputId": "213e8016-f707-4d6f-f437-7d4a73b8b01a",
        "colab": {
          "base_uri": "https://localhost:8080/"
        }
      },
      "execution_count": 37,
      "outputs": [
        {
          "output_type": "execute_result",
          "data": {
            "text/plain": [
              "tensor(0.0439)"
            ]
          },
          "metadata": {},
          "execution_count": 37
        }
      ]
    },
    {
      "cell_type": "code",
      "source": [
        "corr = 0\n",
        "with torch.no_grad():\n",
        "  for i,dat in enumerate(x_test):\n",
        "    y_eval = model.forword(dat)\n",
        "    print(f'i = {i+1} y_eval = {y_eval.argmax()} \\t {y_test[i]} \\t = {y_eval.argmax()-y_test[i]}')"
      ],
      "metadata": {
        "id": "rxDXoku7Ilrk",
        "outputId": "f11b2362-a871-4b9b-ed20-5f9efaf9016a",
        "colab": {
          "base_uri": "https://localhost:8080/"
        }
      },
      "execution_count": 38,
      "outputs": [
        {
          "output_type": "stream",
          "name": "stdout",
          "text": [
            "i = 1 y_eval = 1 \t 1 \t = 0\n",
            "i = 2 y_eval = 2 \t 2 \t = 0\n",
            "i = 3 y_eval = 0 \t 0 \t = 0\n",
            "i = 4 y_eval = 1 \t 1 \t = 0\n",
            "i = 5 y_eval = 0 \t 0 \t = 0\n",
            "i = 6 y_eval = 1 \t 1 \t = 0\n",
            "i = 7 y_eval = 2 \t 1 \t = 1\n",
            "i = 8 y_eval = 1 \t 1 \t = 0\n",
            "i = 9 y_eval = 0 \t 0 \t = 0\n",
            "i = 10 y_eval = 1 \t 1 \t = 0\n",
            "i = 11 y_eval = 1 \t 1 \t = 0\n",
            "i = 12 y_eval = 2 \t 2 \t = 0\n",
            "i = 13 y_eval = 1 \t 1 \t = 0\n",
            "i = 14 y_eval = 0 \t 0 \t = 0\n",
            "i = 15 y_eval = 0 \t 0 \t = 0\n",
            "i = 16 y_eval = 2 \t 2 \t = 0\n",
            "i = 17 y_eval = 1 \t 1 \t = 0\n",
            "i = 18 y_eval = 0 \t 0 \t = 0\n",
            "i = 19 y_eval = 0 \t 0 \t = 0\n",
            "i = 20 y_eval = 0 \t 0 \t = 0\n",
            "i = 21 y_eval = 2 \t 2 \t = 0\n",
            "i = 22 y_eval = 2 \t 2 \t = 0\n",
            "i = 23 y_eval = 2 \t 2 \t = 0\n",
            "i = 24 y_eval = 0 \t 0 \t = 0\n",
            "i = 25 y_eval = 1 \t 1 \t = 0\n",
            "i = 26 y_eval = 0 \t 0 \t = 0\n",
            "i = 27 y_eval = 1 \t 1 \t = 0\n",
            "i = 28 y_eval = 1 \t 1 \t = 0\n",
            "i = 29 y_eval = 1 \t 1 \t = 0\n",
            "i = 30 y_eval = 2 \t 2 \t = 0\n"
          ]
        }
      ]
    }
  ]
}