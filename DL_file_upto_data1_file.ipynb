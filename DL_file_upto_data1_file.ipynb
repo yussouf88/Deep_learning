{
  "nbformat": 4,
  "nbformat_minor": 0,
  "metadata": {
    "colab": {
      "provenance": [],
      "gpuType": "T4",
      "authorship_tag": "ABX9TyOfvFvEwUmgn8DvgKhuYRPf",
      "include_colab_link": true
    },
    "kernelspec": {
      "name": "python3",
      "display_name": "Python 3"
    },
    "language_info": {
      "name": "python"
    },
    "accelerator": "GPU"
  },
  "cells": [
    {
      "cell_type": "markdown",
      "metadata": {
        "id": "view-in-github",
        "colab_type": "text"
      },
      "source": [
        "<a href=\"https://colab.research.google.com/github/yussouf88/Deep_learning/blob/main/DL_file_upto_data1_file.ipynb\" target=\"_parent\"><img src=\"https://colab.research.google.com/assets/colab-badge.svg\" alt=\"Open In Colab\"/></a>"
      ]
    },
    {
      "cell_type": "code",
      "source": [
        "#Final\n",
        "import torch\n",
        "import torch.nn as nn\n",
        "import torch.nn.functional as f\n",
        "import pandas as pd\n",
        "from sklearn.model_selection import train_test_split\n",
        "pd.set_option('future.no_silent_downcasting', True)\n",
        "\n",
        "import matplotlib.pyplot as plt\n"
      ],
      "metadata": {
        "id": "fFbocuEkWMw7"
      },
      "execution_count": 74,
      "outputs": []
    },
    {
      "cell_type": "code",
      "source": [
        "class Model(nn.Module):\n",
        "  def __init__(self,ip = 4,h1 =108,h2=9,h3=10,op=3):\n",
        "    super().__init__()\n",
        "    self.fc1 = nn.Linear(ip,h1)\n",
        "    self.fc2 = nn.Linear(h1,h2)\n",
        "    self.fc3 = nn.Linear(h2,h3)\n",
        "    self.fc4 = nn.Linear(h3,op)\n",
        "\n",
        "  def forword(self,x):\n",
        "    x = f.relu(self.fc1(x))\n",
        "    x = f.relu(self.fc2(x))\n",
        "    x = f.relu(self.fc3(x))\n",
        "    x = self.fc4(x)\n",
        "\n",
        "    return x\n",
        "\n",
        "torch.manual_seed(41)\n",
        "model = Model()\n",
        "\n"
      ],
      "metadata": {
        "id": "1Bhm16eSxf9s"
      },
      "execution_count": 68,
      "outputs": []
    },
    {
      "cell_type": "code",
      "source": [
        "#Data Import\n",
        "ur1 = 'https://gist.githubusercontent.com/curran/a08a1080b88344b0c8a7/raw/0e7a9b0a5d22642a06d3d5b9bcbad9890c8ee534/iris.csv'\n",
        "df = pd.read_csv(ur1)\n",
        "df['variety'] = df.species.replace(['setosa', 'versicolor', 'virginica'],[0,1,2])\n",
        "x = df[['sepal_length',\t'sepal_width',\t'petal_length',\t'petal_width']]\n",
        "y = df['variety']\n",
        "x = x.values\n",
        "y = y.values\n",
        "y = pd.to_numeric(y)\n",
        "\n",
        "x_train,x_test,y_train,y_test = train_test_split(x,y,test_size=.2,random_state=41)\n",
        "x_train = torch.FloatTensor(x_train)\n",
        "x_test = torch.FloatTensor(x_test)\n",
        "y_train = torch.LongTensor(y_train)\n",
        "y_test = torch.LongTensor(y_train)\n"
      ],
      "metadata": {
        "id": "87BjFeXRyprQ"
      },
      "execution_count": 69,
      "outputs": []
    },
    {
      "cell_type": "code",
      "source": [
        "critereon = nn.CrossEntropyLoss()\n",
        "optimizer = torch.optim.Adam(model.parameters(),lr=.01)\n",
        "epoch = 100\n",
        "lss = []\n",
        "\n",
        "for i in range(epoch):\n",
        "  y_pred = model.forword(x_train)\n",
        "  loss = critereon(y_pred,y_train)\n",
        "  lss.append(loss.detach().numpy())\n",
        "  if i%10==0:\n",
        "    print(f'for i = {i} loss = {loss}')\n",
        "\n",
        "  optimizer.zero_grad()\n",
        "  loss.backward()\n",
        "  optimizer.step()\n"
      ],
      "metadata": {
        "id": "Ir9ya97bQEqt",
        "outputId": "878a5946-6576-460c-868a-7e28b1597c57",
        "colab": {
          "base_uri": "https://localhost:8080/"
        }
      },
      "execution_count": 70,
      "outputs": [
        {
          "output_type": "stream",
          "name": "stdout",
          "text": [
            "for i = 0 loss = 1.1354827880859375\n",
            "for i = 10 loss = 0.6025761961936951\n",
            "for i = 20 loss = 0.33008208870887756\n",
            "for i = 30 loss = 0.1686202436685562\n",
            "for i = 40 loss = 0.06579546630382538\n",
            "for i = 50 loss = 0.036293234676122665\n",
            "for i = 60 loss = 0.029025258496403694\n",
            "for i = 70 loss = 0.024656925350427628\n",
            "for i = 80 loss = 0.0212335754185915\n",
            "for i = 90 loss = 0.019539058208465576\n"
          ]
        }
      ]
    },
    {
      "cell_type": "code",
      "source": [
        "plt.plot(range(epoch),lss)\n",
        "plt.xlabel('Epochs')\n",
        "plt.ylabel('Loss')\n",
        "plt.show()"
      ],
      "metadata": {
        "colab": {
          "base_uri": "https://localhost:8080/",
          "height": 449
        },
        "id": "SQNthAgsEDgL",
        "outputId": "eaa79cf1-31e0-4fca-d808-defc660278a3"
      },
      "execution_count": 73,
      "outputs": [
        {
          "output_type": "display_data",
          "data": {
            "text/plain": [
              "<Figure size 640x480 with 1 Axes>"
            ],
            "image/png": "[encoded data removed]"
          },
          "metadata": {}
        }
      ]
    }
  ]
}