{
  "nbformat": 4,
  "nbformat_minor": 0,
  "metadata": {
    "colab": {
      "provenance": [],
      "gpuType": "T4",
      "authorship_tag": "ABX9TyNxh9Q0e2W3rm5fgi9ue7nX",
      "include_colab_link": true
    },
    "kernelspec": {
      "name": "python3",
      "display_name": "Python 3"
    },
    "language_info": {
      "name": "python"
    },
    "accelerator": "GPU"
  },
  "cells": [
    {
      "cell_type": "markdown",
      "metadata": {
        "id": "view-in-github",
        "colab_type": "text"
      },
      "source": [
        "<a href=\"https://colab.research.google.com/github/yussouf88/Deep_learning/blob/main/DL_file_upto_data1_file2.ipynb\" target=\"_parent\"><img src=\"https://colab.research.google.com/assets/colab-badge.svg\" alt=\"Open In Colab\"/></a>"
      ]
    },
    {
      "cell_type": "code",
      "source": [
        "import torch\n",
        "import torch.nn as nn\n",
        "import torch.nn.functional as f\n",
        "\n",
        "\n",
        "class Model(nn.Module):\n",
        "  def __init__(self,ip=4,h1=8,h2=9,op=3):\n",
        "    super().__init__()\n",
        "    self.fc1 = nn.Linear(ip,h1)\n",
        "    self.fc2 = nn.Linear(h1,h2)\n",
        "    self.out = nn.Linear(h2,op)\n",
        "\n",
        "  def forword(self,x):\n",
        "    x = f.relu(self.fc1(x))\n",
        "    x = f.relu(self.fc2(x))\n",
        "    x = self.out(x)\n",
        "\n",
        "    return x"
      ],
      "metadata": {
        "id": "fFbocuEkWMw7"
      },
      "execution_count": 76,
      "outputs": []
    },
    {
      "cell_type": "code",
      "source": [
        "torch.manual_seed(21)\n",
        "Model = Model()"
      ],
      "metadata": {
        "id": "1Bhm16eSxf9s"
      },
      "execution_count": 77,
      "outputs": []
    },
    {
      "cell_type": "code",
      "source": [
        "#Data Import\n",
        "import pandas as pd\n",
        "url1 = 'https://gist.githubusercontent.com/curran/a08a1080b88344b0c8a7/raw/0e7a9b0a5d22642a06d3d5b9bcbad9890c8ee534/iris.csv'\n",
        "df = pd.read_csv(url1)\n",
        "\n",
        "df['species'] = df['species'].replace('setosa',0)\n",
        "df['species'] = df['species'].replace('versicolor',1)\n",
        "df['species'] = df['species'].replace('virginica',2)\n",
        "x = df.drop('species',axis = 1)\n",
        "y = df['species']\n",
        "x = x.values\n",
        "y = y.values\n",
        "y = pd.to_numeric(y)\n"
      ],
      "metadata": {
        "id": "87BjFeXRyprQ"
      },
      "execution_count": 99,
      "outputs": []
    },
    {
      "cell_type": "code",
      "source": [
        "\n",
        "from sklearn.model_selection import train_test_split\n",
        "\n",
        "x_train, x_test, y_train, y_test = train_test_split(x,y,test_size = .2, random_state = 21)\n",
        "x_train = torch.FloatTensor(x_train)\n",
        "x_test = torch.FloatTensor(x_test)\n",
        "y_train = torch.LongTensor(y_train)\n",
        "y_test = torch.LongTensor(y_test)\n",
        "\n",
        "criterion = nn.CrossEntropyLoss()\n",
        "optimizer = torch.optim.Adam(model.parameters(),lr = .01)\n",
        "\n"
      ],
      "metadata": {
        "id": "1j7pdxAVy6zX"
      },
      "execution_count": 138,
      "outputs": []
    },
    {
      "cell_type": "code",
      "source": [
        "Epochs = 100\n",
        "losses = []\n",
        "for i in range(Epochs):\n",
        "  y_pred = model.forword(x_train)\n",
        "  loss = criterion(y_pred,y_train)\n",
        "  losses.append(loss.detach().numpy())\n",
        "  if i%10 == 0:\n",
        "    print(f'on epoch {i} loss is {loss}')\n",
        "\n",
        "  optimizer.zero_grad()\n",
        "  loss.backward()\n",
        "  optimizer.step()\n",
        "\n"
      ],
      "metadata": {
        "colab": {
          "base_uri": "https://localhost:8080/"
        },
        "id": "Ir9ya97bQEqt",
        "outputId": "3a4f5bb3-56e0-42f0-caff-17caacfde188"
      },
      "execution_count": 96,
      "outputs": [
        {
          "output_type": "stream",
          "name": "stdout",
          "text": [
            "on epoch 0 loss is 1.1276322603225708\n",
            "on epoch 10 loss is 0.906039297580719\n",
            "on epoch 20 loss is 0.5735359787940979\n",
            "on epoch 30 loss is 0.37388718128204346\n",
            "on epoch 40 loss is 0.23575197160243988\n",
            "on epoch 50 loss is 0.13126133382320404\n",
            "on epoch 60 loss is 0.08032890409231186\n",
            "on epoch 70 loss is 0.05681873485445976\n",
            "on epoch 80 loss is 0.04468296840786934\n",
            "on epoch 90 loss is 0.037313174456357956\n"
          ]
        }
      ]
    }
  ]
}