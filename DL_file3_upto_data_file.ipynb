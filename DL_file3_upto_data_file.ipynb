{
  "nbformat": 4,
  "nbformat_minor": 0,
  "metadata": {
    "colab": {
      "provenance": [],
      "gpuType": "T4",
      "authorship_tag": "ABX9TyMB/oF3ow5zR9jwuy2BXxCb",
      "include_colab_link": true
    },
    "kernelspec": {
      "name": "python3",
      "display_name": "Python 3"
    },
    "language_info": {
      "name": "python"
    },
    "accelerator": "GPU"
  },
  "cells": [
    {
      "cell_type": "markdown",
      "metadata": {
        "id": "view-in-github",
        "colab_type": "text"
      },
      "source": [
        "<a href=\"https://colab.research.google.com/github/yussouf88/Deep_learning/blob/main/DL_file3_upto_data_file.ipynb\" target=\"_parent\"><img src=\"https://colab.research.google.com/assets/colab-badge.svg\" alt=\"Open In Colab\"/></a>"
      ]
    },
    {
      "cell_type": "code",
      "source": [
        "import torch\n",
        "import torch.nn as nn\n",
        "import torch.nn.functional as f\n",
        "import pandas as pd\n",
        "\n",
        "class Model(nn.Module):\n",
        "  def __init__(self, ip = 4, h1 = 8, h2 = 9, op = 3):\n",
        "    super().__init__()\n",
        "    self.fc1 = nn.Linear(ip, h1)\n",
        "    self.fc2 = nn.Linear(h1, h2)\n",
        "    self.out = nn.Linear(h2, op)\n",
        "\n",
        "  def forword(self, x):\n",
        "    x = f.relu(self.fc1(x))\n",
        "    x = f.relu(self.fc2(x))\n",
        "    x = self.out(x)\n",
        "\n",
        "    return x\n",
        "\n",
        "torch.manual_seed(21)\n",
        "model = Model()"
      ],
      "metadata": {
        "id": "by2abOgHyjCO"
      },
      "execution_count": 2,
      "outputs": []
    },
    {
      "cell_type": "code",
      "source": [
        "ur1 = 'https://gist.githubusercontent.com/curran/a08a1080b88344b0c8a7/raw/0e7a9b0a5d22642a06d3d5b9bcbad9890c8ee534/iris.csv'\n",
        "df = pd.read_csv(ur1)\n",
        "df['species'] = df['species'].replace('setosa',0.0)\n",
        "df['species'] = df['species'].replace('virginica',0.1)\n",
        "df['species'] = df['species'].replace('virginica',0.2)\n",
        "x = df.drop('species',axis = 1)\n",
        "y = df['species']\n",
        "x = x.values\n",
        "y = y.values\n",
        "\n",
        "from sklearn.model_selection import train_test_split\n",
        "x_train, x_test, y_train, y_test = train_test_split(x, y, test_size = 0.2)"
      ],
      "metadata": {
        "id": "_4J4MXR10gWJ"
      },
      "execution_count": 3,
      "outputs": []
    }
  ]
}