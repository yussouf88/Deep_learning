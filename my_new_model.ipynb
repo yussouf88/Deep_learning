{
  "nbformat": 4,
  "nbformat_minor": 0,
  "metadata": {
    "colab": {
      "provenance": [],
      "gpuType": "T4",
      "authorship_tag": "ABX9TyNeJYcgRspwJvE1fZQ9NUd4",
      "include_colab_link": true
    },
    "kernelspec": {
      "name": "python3",
      "display_name": "Python 3"
    },
    "language_info": {
      "name": "python"
    },
    "accelerator": "GPU"
  },
  "cells": [
    {
      "cell_type": "markdown",
      "metadata": {
        "id": "view-in-github",
        "colab_type": "text"
      },
      "source": [
        "<a href=\"https://colab.research.google.com/github/yussouf88/Deep_learning/blob/main/my_new_model.ipynb\" target=\"_parent\"><img src=\"https://colab.research.google.com/assets/colab-badge.svg\" alt=\"Open In Colab\"/></a>"
      ]
    },
    {
      "cell_type": "code",
      "execution_count": null,
      "metadata": {
        "id": "PJhfHwwIrir5"
      },
      "outputs": [],
      "source": [
        "import torch\n",
        "import torch.nn as nn\n",
        "import torch.nn.functional as f\n",
        "import pandas as pd\n",
        "from sklearn.model_selection import train_test_split\n",
        "pd.set_option('future.no_silent_downcasting', True)"
      ]
    },
    {
      "cell_type": "code",
      "source": [
        "class Model(nn.Module):\n",
        "  def __init__(self,ip=4,h1=8,h2=9,h3=8,op=3):\n",
        "    super().__init__()\n",
        "    self.fc1 = nn.Linear(ip,h1)\n",
        "    self.fc2 = nn.Linear(h1,h2)\n",
        "    self.fc3 = nn.Linear(h2,h3)\n",
        "    self.fc4 = nn.Linear(h3,op)\n",
        "\n",
        "  def forword(self,x):\n",
        "    x = f.relu(self.fc1(x))\n",
        "    x = f.relu(self.fc2(x))\n",
        "    x = f.relu(self.fc3(x))\n",
        "    x = self.fc4(x)\n",
        "\n",
        "    return x\n",
        "\n",
        "torch.manual_seed(41)\n",
        "model = Model()\n"
      ],
      "metadata": {
        "id": "Cdt8rjw7r_65"
      },
      "execution_count": null,
      "outputs": []
    },
    {
      "cell_type": "code",
      "source": [
        "#Data Import\n",
        "ur1 = 'https://gist.githubusercontent.com/curran/a08a1080b88344b0c8a7/raw/0e7a9b0a5d22642a06d3d5b9bcbad9890c8ee534/iris.csv'\n",
        "df = pd.read_csv(ur1)\n",
        "df['variety'] = df.species.replace(['setosa', 'versicolor', 'virginica'],[0,1,2])\n",
        "x = df[['sepal_length','sepal_width','petal_length','petal_width']]\n",
        "y = df['variety']\n",
        "x = x.values\n",
        "y = y.values\n",
        "y = pd.to_numeric(y)\n",
        "\n",
        "x_train,x_test,y_train,y_test = train_test_split(x,y,test_size=.2,random_state=41)\n",
        "x_train = torch.FloatTensor(x_train)\n",
        "x_test = torch.FloatTensor(x_test)\n",
        "y_train = torch.LongTensor(y_train)\n",
        "y_test = torch.LongTensor(y_test)"
      ],
      "metadata": {
        "id": "K7Dlj1pWsqgZ"
      },
      "execution_count": null,
      "outputs": []
    },
    {
      "cell_type": "code",
      "source": [
        "criterion = nn.CrossEntropyLoss()\n",
        "optimizer = torch.optim.Adam(model.parameters(),lr=.01)\n",
        "\n",
        "Epochs = 100\n",
        "losses = []\n",
        "for i in range(Epochs):\n",
        "  y_pred = model.forword(x_train)\n",
        "  loss = criterion(y_pred,y_train)\n",
        "  losses.append(loss.detach().numpy())\n",
        "  if i%10 == 0:\n",
        "    print(f'on epoch {i} loss is {loss}')\n",
        "\n",
        "  opt.zero_grad()\n",
        "  loss.backward()\n",
        "  opt.step()"
      ],
      "metadata": {
        "colab": {
          "base_uri": "https://localhost:8080/"
        },
        "id": "n56OA_D08-sI",
        "outputId": "4f624e6d-d1e4-40a6-a406-dd1f3dd4a59c"
      },
      "execution_count": null,
      "outputs": [
        {
          "output_type": "stream",
          "name": "stdout",
          "text": [
            "on epoch 0 loss is 1.1371482610702515\n",
            "on epoch 10 loss is 0.9740701913833618\n",
            "on epoch 20 loss is 0.7154096364974976\n",
            "on epoch 30 loss is 0.5236234068870544\n",
            "on epoch 40 loss is 0.34463930130004883\n",
            "on epoch 50 loss is 0.181449756026268\n",
            "on epoch 60 loss is 0.06312626600265503\n",
            "on epoch 70 loss is 0.03332424908876419\n",
            "on epoch 80 loss is 0.024750059470534325\n",
            "on epoch 90 loss is 0.020756710320711136\n"
          ]
        }
      ]
    },
    {
      "cell_type": "code",
      "source": [
        "criterion = nn.CrossEntropyLoss()\n",
        "optimizer = torch.optim.Adam(model.parameters(),lr = 0.01)\n",
        "\n",
        "Epochs = 100\n",
        "losses = []\n",
        "for i in range(Epochs):\n",
        "  y_pred = model.forword(x_train)\n",
        "  loss = criterion(y_pred,y_train)\n",
        "  losses.append(loss.detach().numpy())\n",
        "  if i%10 == 0:\n",
        "    print(f'on epoch {i} loss is {loss}')\n",
        "\n",
        "  optimizer.zero_grad()\n",
        "  loss.backward()\n",
        "  optimizer.step()\n"
      ],
      "metadata": {
        "colab": {
          "base_uri": "https://localhost:8080/"
        },
        "id": "pVnmywo9vOkz",
        "outputId": "2994b4d3-7828-46d3-842e-98773a96b32d"
      },
      "execution_count": null,
      "outputs": [
        {
          "output_type": "stream",
          "name": "stdout",
          "text": [
            "on epoch 0 loss is 1.1090717315673828\n",
            "on epoch 10 loss is 0.9290155172348022\n",
            "on epoch 20 loss is 0.5779972076416016\n",
            "on epoch 30 loss is 0.32744309306144714\n",
            "on epoch 40 loss is 0.1694626361131668\n",
            "on epoch 50 loss is 0.07145462185144424\n",
            "on epoch 60 loss is 0.042205553501844406\n",
            "on epoch 70 loss is 0.031001226976513863\n",
            "on epoch 80 loss is 0.02527235820889473\n",
            "on epoch 90 loss is 0.02209526300430298\n"
          ]
        }
      ]
    },
    {
      "cell_type": "code",
      "source": [],
      "metadata": {
        "id": "2bmeOWvyZpcW"
      },
      "execution_count": null,
      "outputs": []
    }
  ]
}