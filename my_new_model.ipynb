{
  "nbformat": 4,
  "nbformat_minor": 0,
  "metadata": {
    "colab": {
      "provenance": [],
      "gpuType": "T4",
      "authorship_tag": "ABX9TyMKXJBgUuk6M6WfKoZQwR0u",
      "include_colab_link": true
    },
    "kernelspec": {
      "name": "python3",
      "display_name": "Python 3"
    },
    "language_info": {
      "name": "python"
    },
    "accelerator": "GPU"
  },
  "cells": [
    {
      "cell_type": "markdown",
      "metadata": {
        "id": "view-in-github",
        "colab_type": "text"
      },
      "source": [
        "<a href=\"https://colab.research.google.com/github/yussouf88/Deep_learning/blob/main/my_new_model.ipynb\" target=\"_parent\"><img src=\"https://colab.research.google.com/assets/colab-badge.svg\" alt=\"Open In Colab\"/></a>"
      ]
    },
    {
      "cell_type": "code",
      "execution_count": 104,
      "metadata": {
        "id": "PJhfHwwIrir5"
      },
      "outputs": [],
      "source": [
        "import pandas as pd\n",
        "import numpy as numpy\n",
        "import io\n",
        "import torch\n",
        "from google.colab import files\n",
        "import torch.nn as nn\n",
        "import torch.nn.functional as f\n",
        "import matplotlib.pyplot as plt\n",
        "%matplotlib inline\n",
        "from sklearn.model_selection import train_test_split"
      ]
    },
    {
      "cell_type": "code",
      "source": [
        "ur1 = 'https://gist.githubusercontent.com/curran/a08a1080b88344b0c8a7/raw/0e7a9b0a5d22642a06d3d5b9bcbad9890c8ee534/iris.csv'\n",
        "df = pd.read_csv(ur1)"
      ],
      "metadata": {
        "id": "Cdt8rjw7r_65"
      },
      "execution_count": 66,
      "outputs": []
    },
    {
      "cell_type": "code",
      "source": [
        "class Model(nn.Module):\n",
        "  def __init__(self,in_features=4,h1=8,h2=9,out_features=3):\n",
        "    super().__init__()\n",
        "    self.fc1 = nn.Linear(in_features,h1)\n",
        "    self.fc2 = nn.Linear(h1,h2)\n",
        "    self.out = nn.Linear(h2,out_features)\n",
        "\n",
        "  def forward(self,x):\n",
        "    x = f.relu(self.fc1(x))\n",
        "    x = f.relu(self.fc2(x))\n",
        "    x = self.out(x)\n",
        "    return x\n",
        "\n",
        "torch.manual_seed(32)\n",
        "model = Model()"
      ],
      "metadata": {
        "id": "K7Dlj1pWsqgZ"
      },
      "execution_count": 112,
      "outputs": []
    },
    {
      "cell_type": "code",
      "source": [
        "class my_class(nn.Module):\n",
        "  def __init__ (self,in_features=4,h1=8,h2=9,h3=8,out_features=3):\n",
        "    super().__init__()\n",
        "    self.fc1 = nn.Linear(in_features,h1)\n",
        "    self.fc2 = nn.Linear(h1,h2)\n",
        "    self.fc3 = nn.Linear(h2,h3)\n",
        "    self.out = nn.Linear(h3,out_features)\n",
        "\n",
        "  def forward(self,x):\n",
        "    x = f.relu(self,fc1(x))\n",
        "    x = f.relu(self,fc2(x))\n",
        "    x = f.relu(self,fc3(x))\n",
        "    x = self.out(x)\n",
        "    return x\n",
        "\n",
        "torch.manual_seed(41)\n",
        "model = my_class()"
      ],
      "metadata": {
        "id": "n56OA_D08-sI"
      },
      "execution_count": 95,
      "outputs": []
    },
    {
      "cell_type": "code",
      "source": [
        "df['variety'] = df.species.replace(['setosa','versicolor','virginica'],[0,1,2])\n",
        "x = df[['sepal_length',\t'sepal_width',\t'petal_length',\t'petal_width']]\n",
        "y = df['variety']"
      ],
      "metadata": {
        "colab": {
          "base_uri": "https://localhost:8080/"
        },
        "id": "pVnmywo9vOkz",
        "outputId": "b187f47d-8a0e-44f7-ce26-021e881df4e7"
      },
      "execution_count": 84,
      "outputs": [
        {
          "output_type": "stream",
          "name": "stderr",
          "text": [
            "<ipython-input-84-2282622107>:1: FutureWarning: Downcasting behavior in `replace` is deprecated and will be removed in a future version. To retain the old behavior, explicitly call `result.infer_objects(copy=False)`. To opt-in to the future behavior, set `pd.set_option('future.no_silent_downcasting', True)`\n",
            "  df['variety'] = df.species.replace(['setosa','versicolor','virginica'],[0,1,2])\n"
          ]
        }
      ]
    },
    {
      "cell_type": "code",
      "source": [
        "x = x.values\n",
        "y = y.values\n"
      ],
      "metadata": {
        "id": "2bmeOWvyZpcW"
      },
      "execution_count": 86,
      "outputs": []
    },
    {
      "cell_type": "code",
      "source": [
        "x_train,x_test,y_train,y_test = train_test_split(x,y,test_size=.2,random_state=10)\n",
        "x_train = torch.FloatTensor(x_train)\n",
        "x_test = torch.FloatTensor(x_test)\n",
        "y_train = torch.LongTensor(y_train)\n",
        "y_test = torch.LongTensor(y_test)"
      ],
      "metadata": {
        "id": "mZZQ9hba1VFL"
      },
      "execution_count": 91,
      "outputs": []
    },
    {
      "cell_type": "code",
      "source": [
        "critereon = nn.CrossEntropyLoss()\n",
        "optimizer = torch.optim.Adam(model.parameters(),lr=.1)\n",
        "epochs = 200\n",
        "losses = []\n",
        "for i in range(epochs):\n",
        "  y_pred = model.forward(x_train)\n",
        "  loss = critereon(y_pred,y_train)\n",
        "  losses.append(loss.detach().numpy())\n",
        "  if i%10==0:\n",
        "    print(f'epoch {i} loss={loss}')\n",
        "\n",
        "optimizer.zero_grad()\n",
        "loss.backward\n",
        "optimizer.step()\n"
      ],
      "metadata": {
        "colab": {
          "base_uri": "https://localhost:8080/"
        },
        "id": "p3jyAKWUU_xY",
        "outputId": "03720aa2-ed75-40ee-96d2-99b785f0cdac"
      },
      "execution_count": 117,
      "outputs": [
        {
          "output_type": "stream",
          "name": "stdout",
          "text": [
            "epoch 0 loss=1.174389123916626\n",
            "epoch 10 loss=1.174389123916626\n",
            "epoch 20 loss=1.174389123916626\n",
            "epoch 30 loss=1.174389123916626\n",
            "epoch 40 loss=1.174389123916626\n",
            "epoch 50 loss=1.174389123916626\n",
            "epoch 60 loss=1.174389123916626\n",
            "epoch 70 loss=1.174389123916626\n",
            "epoch 80 loss=1.174389123916626\n",
            "epoch 90 loss=1.174389123916626\n",
            "epoch 100 loss=1.174389123916626\n",
            "epoch 110 loss=1.174389123916626\n",
            "epoch 120 loss=1.174389123916626\n",
            "epoch 130 loss=1.174389123916626\n",
            "epoch 140 loss=1.174389123916626\n",
            "epoch 150 loss=1.174389123916626\n",
            "epoch 160 loss=1.174389123916626\n",
            "epoch 170 loss=1.174389123916626\n",
            "epoch 180 loss=1.174389123916626\n",
            "epoch 190 loss=1.174389123916626\n"
          ]
        }
      ]
    }
  ]
}