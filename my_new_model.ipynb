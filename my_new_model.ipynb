{
  "nbformat": 4,
  "nbformat_minor": 0,
  "metadata": {
    "colab": {
      "provenance": [],
      "gpuType": "T4",
      "authorship_tag": "ABX9TyNrU3GWj1GKdIVP5FpQprH4",
      "include_colab_link": true
    },
    "kernelspec": {
      "name": "python3",
      "display_name": "Python 3"
    },
    "language_info": {
      "name": "python"
    },
    "accelerator": "GPU"
  },
  "cells": [
    {
      "cell_type": "markdown",
      "metadata": {
        "id": "view-in-github",
        "colab_type": "text"
      },
      "source": [
        "<a href=\"https://colab.research.google.com/github/yussouf88/Deep_learning/blob/main/my_new_model.ipynb\" target=\"_parent\"><img src=\"https://colab.research.google.com/assets/colab-badge.svg\" alt=\"Open In Colab\"/></a>"
      ]
    },
    {
      "cell_type": "code",
      "execution_count": 53,
      "metadata": {
        "id": "PJhfHwwIrir5"
      },
      "outputs": [],
      "source": [
        "import torch\n",
        "import torch.nn as nn\n",
        "import torch.nn.functional as f\n",
        "from sklearn.model_selection import train_test_split\n",
        "import pandas as pd\n",
        "import numpy as np\n",
        "import matplotlib.pyplot as plt\n",
        "pd.set_option('future.no_silent_downcasting',True)"
      ]
    },
    {
      "cell_type": "code",
      "source": [
        "class model(nn.Module):\n",
        "  def __init__(self,ip=4,h1=9,h2=9,h3=9,op=3):\n",
        "    super().__init__()\n",
        "    self.fc1 = nn.Linear(ip,h1)\n",
        "    self.fc2 = nn.Linear(h1,h2)\n",
        "    self.fc3 = nn.Linear(h2,h3)\n",
        "    self.fc4 = nn.Linear(h3,op)\n",
        "\n",
        "  def forward(self,x):\n",
        "    x = f.relu(self.fc1(x))\n",
        "    x = f.relu(self.fc2(x))\n",
        "    x = f.relu(self.fc3(x))\n",
        "    x = self.fc4(x)\n",
        "\n",
        "    return x\n",
        "\n",
        "torch.manual_seed(10)\n",
        "model = model()"
      ],
      "metadata": {
        "id": "Cdt8rjw7r_65"
      },
      "execution_count": 54,
      "outputs": []
    },
    {
      "cell_type": "code",
      "source": [
        "#Data Import\n",
        "ur1 = 'https://gist.githubusercontent.com/curran/a08a1080b88344b0c8a7/raw/0e7a9b0a5d22642a06d3d5b9bcbad9890c8ee534/iris.csv'\n",
        "df = pd.read_csv(ur1)\n",
        "df['variety'] = df.species.replace(['setosa', 'versicolor', 'virginica'],[0,1,2])\n",
        "x = df[['sepal_length',\t'sepal_width',\t'petal_length',\t'petal_width']]\n",
        "y = df['variety']\n",
        "x = x.values\n",
        "y = y.values\n",
        "y = pd.to_numeric(y)\n",
        "\n",
        "x_train,x_test,y_train,y_test = train_test_split(x,y,test_size = .2,random_state = 10)\n",
        "x_train = torch.FloatTensor(x_train)\n",
        "x_test  = torch.FloatTensor(x_test)\n",
        "y_train = torch.LongTensor(y_train)\n",
        "y_test  = torch.LongTensor(y_test)"
      ],
      "metadata": {
        "id": "K7Dlj1pWsqgZ"
      },
      "execution_count": 55,
      "outputs": []
    },
    {
      "cell_type": "markdown",
      "source": [],
      "metadata": {
        "id": "A2jiZZ0RIrKI"
      }
    },
    {
      "cell_type": "code",
      "source": [
        "cri = nn.CrossEntropyLoss()\n",
        "opt = torch.optim.Adam(model.parameters(),lr = .01)\n",
        "ep = 100\n",
        "lss = []\n",
        "for i in range(ep):\n",
        "  y_pred = model.forward(x_train)\n",
        "  loss = cri(y_pred,y_train)\n",
        "  lss.append(loss.detach().numpy())\n",
        "  if i%10 == 0 :\n",
        "    print(f'For epoch {i} loss = {loss}')\n",
        "\n",
        "  opt.zero_grad()\n",
        "  loss.backward()\n",
        "  opt.step()\n",
        "\n"
      ],
      "metadata": {
        "colab": {
          "base_uri": "https://localhost:8080/"
        },
        "id": "n56OA_D08-sI",
        "outputId": "47e859d2-ebce-42c6-bb4b-561c962b02e8"
      },
      "execution_count": 56,
      "outputs": [
        {
          "output_type": "stream",
          "name": "stdout",
          "text": [
            "For epoch 0 loss = 1.1557172536849976\n",
            "For epoch 10 loss = 1.0374201536178589\n",
            "For epoch 20 loss = 0.8368822932243347\n",
            "For epoch 30 loss = 0.629534125328064\n",
            "For epoch 40 loss = 0.4439689815044403\n",
            "For epoch 50 loss = 0.242827907204628\n",
            "For epoch 60 loss = 0.10200957208871841\n",
            "For epoch 70 loss = 0.062180932611227036\n",
            "For epoch 80 loss = 0.054745759814977646\n",
            "For epoch 90 loss = 0.05236787348985672\n"
          ]
        }
      ]
    },
    {
      "cell_type": "code",
      "source": [
        "plt.plot(range(ep),lss)\n",
        "plt.xlabel = 'Eppoch'\n",
        "plt.ylabel = 'Loss'\n",
        "plt.show()"
      ],
      "metadata": {
        "colab": {
          "base_uri": "https://localhost:8080/",
          "height": 432
        },
        "id": "pVnmywo9vOkz",
        "outputId": "d2373b20-e9d6-4ab4-96c8-7c811c458bf0"
      },
      "execution_count": 57,
      "outputs": [
        {
          "output_type": "display_data",
          "data": {
            "text/plain": [
              "<Figure size 640x480 with 1 Axes>"
            ],
            "image/png": "[encoded data removed]"
          },
          "metadata": {}
        }
      ]
    },
    {
      "cell_type": "code",
      "source": [
        "with torch.no_grad():\n",
        "  y_eval = model.forward(x_test)\n",
        "  loss = cri(y_eval,y_test)\n",
        "  print(loss)"
      ],
      "metadata": {
        "id": "2bmeOWvyZpcW",
        "colab": {
          "base_uri": "https://localhost:8080/"
        },
        "outputId": "bba20554-d879-45d9-8873-b489f12f5675"
      },
      "execution_count": 58,
      "outputs": [
        {
          "output_type": "stream",
          "name": "stdout",
          "text": [
            "tensor(0.0380)\n"
          ]
        }
      ]
    },
    {
      "cell_type": "code",
      "source": [
        "corr = 0\n",
        "with torch.no_grad():\n",
        "  for i,dat in enumerate(x_test):\n",
        "    y_eval = model.forward(dat)\n",
        "    print(f'{i+1} \\t {y_eval.argmax()} \\t {y_test[i]} \\t {y_eval.argmax()-y_test[i]}')\n",
        "\n",
        "\n"
      ],
      "metadata": {
        "colab": {
          "base_uri": "https://localhost:8080/"
        },
        "id": "f6uf-wJdKFS8",
        "outputId": "39acac62-47ff-4d1e-f906-360b8fe2d31e"
      },
      "execution_count": 59,
      "outputs": [
        {
          "output_type": "stream",
          "name": "stdout",
          "text": [
            "1 \t 1 \t 1 \t 0\n",
            "2 \t 2 \t 2 \t 0\n",
            "3 \t 0 \t 0 \t 0\n",
            "4 \t 1 \t 1 \t 0\n",
            "5 \t 0 \t 0 \t 0\n",
            "6 \t 1 \t 1 \t 0\n",
            "7 \t 2 \t 1 \t 1\n",
            "8 \t 1 \t 1 \t 0\n",
            "9 \t 0 \t 0 \t 0\n",
            "10 \t 1 \t 1 \t 0\n",
            "11 \t 1 \t 1 \t 0\n",
            "12 \t 2 \t 2 \t 0\n",
            "13 \t 1 \t 1 \t 0\n",
            "14 \t 0 \t 0 \t 0\n",
            "15 \t 0 \t 0 \t 0\n",
            "16 \t 2 \t 2 \t 0\n",
            "17 \t 1 \t 1 \t 0\n",
            "18 \t 0 \t 0 \t 0\n",
            "19 \t 0 \t 0 \t 0\n",
            "20 \t 0 \t 0 \t 0\n",
            "21 \t 2 \t 2 \t 0\n",
            "22 \t 2 \t 2 \t 0\n",
            "23 \t 2 \t 2 \t 0\n",
            "24 \t 0 \t 0 \t 0\n",
            "25 \t 1 \t 1 \t 0\n",
            "26 \t 0 \t 0 \t 0\n",
            "27 \t 1 \t 1 \t 0\n",
            "28 \t 1 \t 1 \t 0\n",
            "29 \t 1 \t 1 \t 0\n",
            "30 \t 2 \t 2 \t 0\n"
          ]
        }
      ]
    },
    {
      "cell_type": "code",
      "source": [
        "with torch."
      ],
      "metadata": {
        "id": "N13RClVGKBbd"
      },
      "execution_count": null,
      "outputs": []
    }
  ]
}