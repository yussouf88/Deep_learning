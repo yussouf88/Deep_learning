{
  "nbformat": 4,
  "nbformat_minor": 0,
  "metadata": {
    "colab": {
      "provenance": [],
      "gpuType": "T4",
      "authorship_tag": "ABX9TyNO+GhQxwBoO+R3VB6fgM8Q",
      "include_colab_link": true
    },
    "kernelspec": {
      "name": "python3",
      "display_name": "Python 3"
    },
    "language_info": {
      "name": "python"
    },
    "accelerator": "GPU"
  },
  "cells": [
    {
      "cell_type": "markdown",
      "metadata": {
        "id": "view-in-github",
        "colab_type": "text"
      },
      "source": [
        "<a href=\"https://colab.research.google.com/github/yussouf88/Deep_learning/blob/main/my_new_model.ipynb\" target=\"_parent\"><img src=\"https://colab.research.google.com/assets/colab-badge.svg\" alt=\"Open In Colab\"/></a>"
      ]
    },
    {
      "cell_type": "code",
      "execution_count": 3,
      "metadata": {
        "id": "PJhfHwwIrir5"
      },
      "outputs": [],
      "source": [
        "import torch\n",
        "import torch.nn as nn\n",
        "import torch.nn.functional as f\n",
        "import pandas as pd\n",
        "from sklearn.model_selection import train_test_split\n",
        "import matplotlib.pyplot as plt\n",
        "pd.set_option('future.no_silent_downcasting', True)"
      ]
    },
    {
      "cell_type": "code",
      "source": [
        "class Model(nn.Module):\n",
        "  def __init__(self,ip=4,h1=8,h2=9,h3=8,op=3):\n",
        "    super().__init__()\n",
        "    self.fc1 = nn.Linear(ip,h1)\n",
        "    self.fc2 = nn.Linear(h1,h2)\n",
        "    self.fc3 = nn.Linear(h2,h3)\n",
        "    self.fc4 = nn.Linear(h3,op)\n",
        "\n",
        "  def forward(self,x):\n",
        "    x = f.relu(self.fc1(x))\n",
        "    x = f.relu(self.fc2(x))\n",
        "    x = f.relu(self.fc3(x))\n",
        "    x = self.fc4(x)\n",
        "    return x\n",
        "\n",
        "torch.manual_seed(21)\n",
        "model = Model()\n"
      ],
      "metadata": {
        "id": "Cdt8rjw7r_65"
      },
      "execution_count": 4,
      "outputs": []
    },
    {
      "cell_type": "code",
      "source": [
        "#Data Import\n",
        "ur1 = 'https://gist.githubusercontent.com/curran/a08a1080b88344b0c8a7/raw/0e7a9b0a5d22642a06d3d5b9bcbad9890c8ee534/iris.csv'\n",
        "df = pd.read_csv(ur1)\n",
        "df['variety'] = df.species.replace(['setosa', 'versicolor', 'virginica'],[0,1,2])\n",
        "x = df[['sepal_length',\t'sepal_width',\t'petal_length',\t'petal_width']].values\n",
        "y = pd.to_numeric(df['variety'].values)\n",
        "x_train,x_test,y_train,y_test = train_test_split(x,y,test_size = .2,random_state = 21)\n",
        "x_train = torch.FloatTensor(x_train)\n",
        "x_test = torch.FloatTensor(x_test)\n",
        "y_train = torch.LongTensor(y_train)\n",
        "y_test = torch.LongTensor(y_test)"
      ],
      "metadata": {
        "id": "K7Dlj1pWsqgZ"
      },
      "execution_count": 5,
      "outputs": []
    },
    {
      "cell_type": "markdown",
      "source": [],
      "metadata": {
        "id": "A2jiZZ0RIrKI"
      }
    },
    {
      "cell_type": "code",
      "source": [
        "cri = nn.CrossEntropyLoss()\n",
        "opt = torch.optim.Adam(model.parameters(),lr = .01)\n",
        "lss = []\n",
        "ep = 100\n",
        "for i in range(ep):\n",
        "  y_pred = model.forward(x_train)\n",
        "  loss = cri(y_pred,y_train)\n",
        "  lss.append(loss.detach().numpy())\n",
        "  if i%10 == 0:\n",
        "    print(f'for i= {i} loss = {loss}')\n",
        "\n",
        "  opt.zero_grad()\n",
        "  loss.backward()\n",
        "  opt.step()\n"
      ],
      "metadata": {
        "colab": {
          "base_uri": "https://localhost:8080/"
        },
        "id": "n56OA_D08-sI",
        "outputId": "5819f54b-33c3-432d-f920-45866ea3f11c"
      },
      "execution_count": 6,
      "outputs": [
        {
          "output_type": "stream",
          "name": "stdout",
          "text": [
            "for i= 0 loss = 1.1089309453964233\n",
            "for i= 10 loss = 0.9425957798957825\n",
            "for i= 20 loss = 0.6103331446647644\n",
            "for i= 30 loss = 0.348080575466156\n",
            "for i= 40 loss = 0.18991470336914062\n",
            "for i= 50 loss = 0.08531496673822403\n",
            "for i= 60 loss = 0.050153836607933044\n",
            "for i= 70 loss = 0.03817233815789223\n",
            "for i= 80 loss = 0.03194485604763031\n",
            "for i= 90 loss = 0.028278304263949394\n"
          ]
        }
      ]
    },
    {
      "cell_type": "code",
      "source": [
        "plt.plot(range(ep),lss)\n",
        "plt.xlabel('Epoch')\n",
        "plt.ylabel('Loss')\n",
        "plt.show()"
      ],
      "metadata": {
        "colab": {
          "base_uri": "https://localhost:8080/",
          "height": 449
        },
        "id": "pVnmywo9vOkz",
        "outputId": "a3913ae7-bd3a-44a2-c902-a9b8ad55ab17"
      },
      "execution_count": 7,
      "outputs": [
        {
          "output_type": "display_data",
          "data": {
            "text/plain": [
              "<Figure size 640x480 with 1 Axes>"
            ],
            "image/png": "[encoded data removed]"
          },
          "metadata": {}
        }
      ]
    },
    {
      "cell_type": "code",
      "source": [
        "with torch.no_grad():\n",
        "  y_pred = model.forward(x_test)\n",
        "  loss = cri(y_pred,y_test)\n",
        "  print(loss)"
      ],
      "metadata": {
        "id": "2bmeOWvyZpcW",
        "colab": {
          "base_uri": "https://localhost:8080/"
        },
        "outputId": "936c3d31-5c98-4184-9fc9-e1ce7fece673"
      },
      "execution_count": 8,
      "outputs": [
        {
          "output_type": "stream",
          "name": "stdout",
          "text": [
            "tensor(0.1497)\n"
          ]
        }
      ]
    },
    {
      "cell_type": "code",
      "source": [
        "with torch.no_grad():\n",
        "  for i,dat in enumerate(x_test):\n",
        "    y_pred1 = model.forward(dat)\n",
        "    if y_pred1.argmax() != y_test[i]:\n",
        "      print(f'{i+1} \\t {y_test[i]} \\t {y_pred1.argmax()} \\t {y_test[i]-y_pred1.argmax()}')"
      ],
      "metadata": {
        "colab": {
          "base_uri": "https://localhost:8080/"
        },
        "id": "f6uf-wJdKFS8",
        "outputId": "506ceb17-dd42-480d-c4e0-74f27ea1b0b9"
      },
      "execution_count": 9,
      "outputs": [
        {
          "output_type": "stream",
          "name": "stdout",
          "text": [
            "23 \t 1 \t 2 \t -1\n"
          ]
        }
      ]
    },
    {
      "cell_type": "code",
      "source": [
        "torch.save(model.state_dict(),'my_model.pt')"
      ],
      "metadata": {
        "id": "VOFanCFBXhiX"
      },
      "execution_count": 12,
      "outputs": []
    },
    {
      "cell_type": "code",
      "source": [
        "model1 = Model()\n",
        "model1.load_state_dict(torch.load('my_model.pt'))\n",
        "model.eval()\n"
      ],
      "metadata": {
        "colab": {
          "base_uri": "https://localhost:8080/"
        },
        "id": "kLB4wMR3Zi-U",
        "outputId": "3e9982b1-28f4-49d1-c42b-52f8e7d7b37f"
      },
      "execution_count": 15,
      "outputs": [
        {
          "output_type": "execute_result",
          "data": {
            "text/plain": [
              "Model(\n",
              "  (fc1): Linear(in_features=4, out_features=8, bias=True)\n",
              "  (fc2): Linear(in_features=8, out_features=9, bias=True)\n",
              "  (fc3): Linear(in_features=9, out_features=8, bias=True)\n",
              "  (fc4): Linear(in_features=8, out_features=3, bias=True)\n",
              ")"
            ]
          },
          "metadata": {},
          "execution_count": 15
        }
      ]
    },
    {
      "cell_type": "code",
      "source": [
        "#using the model\n",
        "dat1 = torch.tensor([6.7,\t3.0,\t5.2,\t2.3])\n",
        "with torch.no_grad():\n",
        "  print(model1(dat1).argmax())\n"
      ],
      "metadata": {
        "colab": {
          "base_uri": "https://localhost:8080/"
        },
        "id": "AouSbrxse3-r",
        "outputId": "cf5ab2a5-92e1-47ff-a140-eed3cf332a02"
      },
      "execution_count": 91,
      "outputs": [
        {
          "output_type": "stream",
          "name": "stdout",
          "text": [
            "tensor(2)\n"
          ]
        }
      ]
    }
  ]
}