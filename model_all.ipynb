{
  "nbformat": 4,
  "nbformat_minor": 0,
  "metadata": {
    "colab": {
      "provenance": [],
      "gpuType": "T4",
      "authorship_tag": "ABX9TyPl3iPN4KPr/vfH0HVsL/ww",
      "include_colab_link": true
    },
    "kernelspec": {
      "name": "python3",
      "display_name": "Python 3"
    },
    "language_info": {
      "name": "python"
    },
    "accelerator": "GPU"
  },
  "cells": [
    {
      "cell_type": "markdown",
      "metadata": {
        "id": "view-in-github",
        "colab_type": "text"
      },
      "source": [
        "<a href=\"https://colab.research.google.com/github/yussouf88/Deep_learning/blob/main/model_all.ipynb\" target=\"_parent\"><img src=\"https://colab.research.google.com/assets/colab-badge.svg\" alt=\"Open In Colab\"/></a>"
      ]
    },
    {
      "cell_type": "code",
      "execution_count": 212,
      "metadata": {
        "id": "OmS58chNUhbG"
      },
      "outputs": [],
      "source": [
        "import torch\n",
        "import torch.nn as nn\n",
        "import torch.nn.functional as f\n",
        "\n",
        "class model(nn.Module):\n",
        "  def __init__(self, ip=4, h1=8, h2=9, op=3):\n",
        "    super().__init__()\n",
        "    self.fc1 = nn.Linear(ip,h1)\n",
        "    self.fc2 = nn.Linear(h1,h2)\n",
        "    self.out = nn.Linear(h2,op)\n",
        "  def forward(self,x):\n",
        "    x = f.relu(self.fc1(x))\n",
        "    x = f.relu(self.fc2(x))\n",
        "    x = self.out(x)\n",
        "    return x"
      ]
    },
    {
      "cell_type": "code",
      "source": [
        "torch.manual_seed(41)\n",
        "model = Model()"
      ],
      "metadata": {
        "id": "U6FrlepYVw1T"
      },
      "execution_count": 213,
      "outputs": []
    },
    {
      "cell_type": "code",
      "source": [
        "import pandas as pd\n",
        "pd.set_option('future.no_silent_downcasting', True)\n",
        "import matplotlib.pyplot as plt\n",
        "%matplotlib inline\n",
        "ur = 'https://gist.githubusercontent.com/curran/a08a1080b88344b0c8a7/raw/0e7a9b0a5d22642a06d3d5b9bcbad9890c8ee534/iris.csv'\n",
        "df = pd.read_csv(ur)\n",
        "df['species']=df['species'].replace('setosa',0)\n",
        "df['species']=df['species'].replace('versicolor',1)\n",
        "df['species']=df['species'].replace('virginica',2)\n",
        "x = df.drop('species',axis = 1)\n",
        "y = df['species']\n",
        "x = x.values\n",
        "y = y.values\n",
        "y = pd.to_numeric(y)"
      ],
      "metadata": {
        "id": "K6ewU7gJWDBJ"
      },
      "execution_count": 214,
      "outputs": []
    },
    {
      "cell_type": "code",
      "source": [
        "from sklearn.model_selection import train_test_split\n",
        "x_train, x_test, y_train, y_test = train_test_split(x,y, test_size = .2, random_state = 41)\n",
        "x_train = torch.FloatTensor(x_train)\n",
        "x_test = torch.FloatTensor(x_test)\n",
        "y_train = torch.LongTensor(y_train)\n",
        "y_test = torch.LongTensor(y_test)"
      ],
      "metadata": {
        "id": "pOVHXNNSXtyx"
      },
      "execution_count": 215,
      "outputs": []
    },
    {
      "cell_type": "code",
      "source": [
        "critereon = nn.CrossEntropyLoss()\n",
        "optimizer = torch.optim.Adam(model.parameters(), lr = .01)"
      ],
      "metadata": {
        "id": "f2GQDRkuYiPr"
      },
      "execution_count": 216,
      "outputs": []
    },
    {
      "cell_type": "code",
      "source": [
        "ep = 200\n",
        "losses = []\n",
        "for i in range(ep):\n",
        "  y_pred = model.forword(x_train)\n",
        "  loss = critereon(y_pred,y_train)\n",
        "  losses.append(loss.detach().numpy())\n",
        "  #if i%10 ==0:\n",
        "  #  print(f'for epoch {i} loss= {loss}')\n",
        "\n",
        "  optimizer.zero_grad()\n",
        "  loss.backward()\n",
        "  optimizer.step()\n"
      ],
      "metadata": {
        "id": "UGDBdXiDcXUc"
      },
      "execution_count": 219,
      "outputs": []
    },
    {
      "cell_type": "code",
      "source": [
        "plt.plot(range(ep),losses)\n",
        "plt.show()"
      ],
      "metadata": {
        "colab": {
          "base_uri": "https://localhost:8080/",
          "height": 430
        },
        "id": "mSpGB4VLk81N",
        "outputId": "583b59f5-d3fb-4899-c5b7-8c83db7491c2"
      },
      "execution_count": 218,
      "outputs": [
        {
          "output_type": "display_data",
          "data": {
            "text/plain": [
              "<Figure size 640x480 with 1 Axes>"
            ],
            "image/png": "[encoded data removed]"
          },
          "metadata": {}
        }
      ]
    }
  ]
}